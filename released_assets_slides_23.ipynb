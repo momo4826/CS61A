{
 "cells": [
  {
   "cell_type": "code",
   "execution_count": 24,
   "metadata": {},
   "outputs": [],
   "source": [
    "%matplotlib inline\n",
    "import matplotlib.pyplot as plt\n",
    "plt.style.use('ggplot')\n",
    "plt.rc('font', size=16)\n",
    "\n",
    "from timeit import repeat\n",
    "from numpy import median, percentile\n",
    "\n",
    "def plot_times(name, xs, n=15):\n",
    "    f = lambda x: name + '(' + str(x) + ')'\n",
    "    g = globals()\n",
    "    \n",
    "    samples = []\n",
    "    for _ in range(n):\n",
    "        times = lambda x: repeat(f(x), globals=g, number=1, repeat=n)\n",
    "        samples.append([median(times(x)) for x in xs])\n",
    "    ys = [10e3 * median(sample) for sample in zip(*samples)]\n",
    "    \n",
    "    plt.figure(figsize=(8, 8))\n",
    "    plt.plot(xs, ys)\n",
    "    plt.xlabel('n')\n",
    "    plt.ylabel('milliseconds')\n",
    "    plt.savefig(name+'.png')"
   ]
  },
  {
   "cell_type": "code",
   "execution_count": 15,
   "metadata": {},
   "outputs": [],
   "source": [
    "def f1(n):\n",
    "    \"\"\"O(n)\"\"\"\n",
    "    if n <= 0:\n",
    "        return 1\n",
    "    else:\n",
    "        return 1 + f1(n-1)"
   ]
  },
  {
   "cell_type": "code",
   "execution_count": null,
   "metadata": {},
   "outputs": [],
   "source": [
    "plot_times('f1', range(20, 1600, 10))"
   ]
  },
  {
   "cell_type": "code",
   "execution_count": 16,
   "metadata": {},
   "outputs": [],
   "source": [
    "def f2(n):\n",
    "    \"\"\"O(log(n))\"\"\"\n",
    "    if n <= 0:\n",
    "        return 1\n",
    "    else:\n",
    "        return 1 + f1(n/2)"
   ]
  },
  {
   "cell_type": "code",
   "execution_count": null,
   "metadata": {},
   "outputs": [],
   "source": [
    "plot_times('f2', range(20, 1600, 10))"
   ]
  },
  {
   "cell_type": "code",
   "execution_count": 18,
   "metadata": {},
   "outputs": [],
   "source": [
    "def f3(n, m):\n",
    "    \"\"\"count partitions, O(constant^n)\"\"\"\n",
    "    if n == 0:\n",
    "        return 1\n",
    "    elif n < 0:\n",
    "        return 0\n",
    "    elif m == 0:\n",
    "        return 0\n",
    "    else:\n",
    "        with_m = f3(n-m, m)\n",
    "        without_m = f3(n, m-1)\n",
    "        return with_m + without_m"
   ]
  },
  {
   "cell_type": "code",
   "execution_count": null,
   "metadata": {},
   "outputs": [],
   "source": [
    "tmp = lambda x: f3(x, x)\n",
    "plot_times('tmp', range(20, 1600, 10))"
   ]
  },
  {
   "cell_type": "code",
   "execution_count": 27,
   "metadata": {},
   "outputs": [],
   "source": [
    "def f4(n):\n",
    "    \"\"\"O(n^2)\"\"\"\n",
    "    tmp = 0\n",
    "    for i in range(n):\n",
    "        tmp += i # it can be replaced with anything, doesn't matter\n",
    "    if n <= 0:\n",
    "        return 1\n",
    "    else:\n",
    "        return 1 + f4(n-1)"
   ]
  },
  {
   "cell_type": "code",
   "execution_count": null,
   "metadata": {},
   "outputs": [],
   "source": [
    "plot_times('f4', range(20, 1600, 10))"
   ]
  },
  {
   "cell_type": "code",
   "execution_count": null,
   "metadata": {},
   "outputs": [],
   "source": [
    "def f5(n):\n",
    "    tmp = 0\n",
    "    for i in range(n):\n",
    "        tmp += i # it can be replaced with anything, doesn't matter\n",
    "    if n <= 0:\n",
    "        return 1\n",
    "    else:\n",
    "        return 1 + f5(n/2)"
   ]
  },
  {
   "cell_type": "code",
   "execution_count": null,
   "metadata": {},
   "outputs": [],
   "source": [
    "plot_times('f5', range(20, 1600, 10))"
   ]
  }
 ],
 "metadata": {
  "anaconda-cloud": {},
  "kernelspec": {
   "display_name": "mytorch",
   "language": "python",
   "name": "python3"
  },
  "language_info": {
   "codemirror_mode": {
    "name": "ipython",
    "version": 3
   },
   "file_extension": ".py",
   "mimetype": "text/x-python",
   "name": "python",
   "nbconvert_exporter": "python",
   "pygments_lexer": "ipython3",
   "version": "3.9.15"
  },
  "vscode": {
   "interpreter": {
    "hash": "20ba34a309c52857e145bf234378910ff576479c80fb4070dc92aa968023800e"
   }
  }
 },
 "nbformat": 4,
 "nbformat_minor": 1
}
